# Wheat Yield Analysis with ML + Clustering
import pandas as pd
import seaborn as sns
import matplotlib.pyplot as plt

from sklearn.preprocessing import LabelEncoder
from sklearn.model_selection import train_test_split
from sklearn.linear_model import LinearRegression
from sklearn.ensemble import RandomForestRegressor
from sklearn.cluster import KMeans
from sklearn.metrics import mean_squared_error, r2_score
from sklearn.impute import SimpleImputer


df = pd.read_csv('/content/dvpcsv.csv')


for col in df.columns:
    if df[col].dtype == 'object':
        df[col] = LabelEncoder().fit_transform(df[col].astype(str))


imputer = SimpleImputer(strategy='mean')
df = pd.DataFrame(imputer.fit_transform(df), columns=df.columns)

print(" Data Loaded and Preprocessed")
print(df.head())





sns.set(style="whitegrid")


plt.figure(figsize=(10, 6))
sns.histplot(df['Spikelet'], bins=20, kde=True)
plt.title('Distribution of Spikelet Count')
plt.xlabel('Spikelet Count')
plt.ylabel('Frequency')
plt.show()

plt.figure(figsize=(10, 6))
sns.scatterplot(data=df, x='Grain_number', y='Grain_yield(mg)', hue='Genotype', palette='viridis')
plt.title('Grain Number vs. Grain Yield')
plt.xlabel('Grain Number')
plt.ylabel('Grain Yield (mg)')
plt.show()


plt.figure(figsize=(10, 6))
sns.boxplot(data=df, x='Genotype', y='Grain_yield(mg)')
plt.title('Box Plot of Grain Yield by Genotype')
plt.xlabel('Genotype')
plt.ylabel('Grain Yield (mg)')
plt.xticks(rotation=45)
plt.show()


plt.figure(figsize=(12, 8))
correlation_matrix = df.corr()
sns.heatmap(correlation_matrix, annot=True, cmap='coolwarm', linewidths=0.5)
plt.title('Correlation Matrix of Features')
plt.show()


X = df.drop(columns=['Grain_yield(mg)'])
y = df['Grain_yield(mg)']

X_train, X_test, y_train, y_test = train_test_split(X, y, test_size=0.2, random_state=42)

lr = LinearRegression()
lr.fit(X_train, y_train)
y_pred_lr = lr.predict(X_test)

print("\nLinear Regression Results:")
print("MSE:", mean_squared_error(y_test, y_pred_lr))
print("R2 Score:", r2_score(y_test, y_pred_lr))

rf = RandomForestRegressor(n_estimators=100, random_state=42)
rf.fit(X_train, y_train)
y_pred_rf = rf.predict(X_test)

print("\nRandom Forest Regression Results:")
print("MSE:", mean_squared_error(y_test, y_pred_rf))
print("R2 Score:", r2_score(y_test, y_pred_rf))

plt.figure(figsize=(10, 6))
plt.scatter(y_test, y_pred_lr, alpha=0.7, label='Linear Regression', color='blue')
plt.scatter(y_test, y_pred_rf, alpha=0.7, label='Random Forest', color='green')
plt.plot([y.min(), y.max()], [y.min(), y.max()], '--', color='red')  # ideal line
plt.title("Model Predictions: Linear vs Random Forest")
plt.xlabel("True Grain Yield")
plt.ylabel("Predicted Grain Yield")
plt.legend()
plt.show()

kmeans = KMeans(n_clusters=3, random_state=42, n_init=10)
df['Cluster'] = kmeans.fit_predict(X)

plt.figure(figsize=(10, 6))
sns.scatterplot(data=df, x='Grain_number', y='Grain_yield(mg)', hue='Cluster', palette='viridis')
plt.title("K-Means Clustering of Genotypes")
plt.xlabel("Grain Number")
plt.ylabel("Grain Yield (mg)")
plt.show()

print("Project Completed: EDA + Regression + Clustering")
